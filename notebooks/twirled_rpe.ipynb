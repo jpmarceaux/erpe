{
 "cells": [
  {
   "cell_type": "code",
   "execution_count": 160,
   "metadata": {},
   "outputs": [
    {
     "name": "stdout",
     "output_type": "stream",
     "text": [
      "The autoreload extension is already loaded. To reload it, use:\n",
      "  %reload_ext autoreload\n"
     ]
    }
   ],
   "source": [
    "from erpe.analysis import *\n",
    "from erpe.models import *\n",
    "import itertools as itt\n",
    "import numpy as np\n",
    "import math\n",
    "from pygsti.circuits import Circuit\n",
    "\n",
    "# autorload \n",
    "%load_ext autoreload\n",
    "%autoreload 2"
   ]
  },
  {
   "cell_type": "code",
   "execution_count": 161,
   "metadata": {},
   "outputs": [
    {
     "name": "stdout",
     "output_type": "stream",
     "text": [
      "True\n"
     ]
    }
   ],
   "source": [
    "ZZ_centralizer = [ \n",
    "    'XX', 'YY', 'ZZ', 'XY', 'YX', 'IZ', 'ZI', 'II'\n",
    "]\n",
    "\n",
    "# make all orderings of the centralizer\n",
    "ZZ_centralizer_permutations = list(itt.permutations(ZZ_centralizer))\n",
    "print(len(ZZ_centralizer_permutations) == math.factorial(8))"
   ]
  },
  {
   "cell_type": "code",
   "execution_count": 162,
   "metadata": {},
   "outputs": [],
   "source": [
    "def onequbit_pauli_to_pygsti_gate(p, qid):\n",
    "    if p == 'X':\n",
    "        return Circuit([('Gxpi2', qid)]*2, line_labels=qids)\n",
    "    elif p == 'Y':\n",
    "        return Circuit([('Gypi2', qid)]*2, line_labels=qids)\n",
    "    elif p == 'Z':\n",
    "        return Circuit([('Gzpi2', qid)]*2, line_labels=qids)\n",
    "    elif p == 'I':\n",
    "        return Circuit([], line_labels=qids)\n",
    "\n",
    "def twoqubit_pauli_to_pygsti_gates(term, qids):\n",
    "    gates = Circuit(line_labels=qids)\n",
    "    gates += onequbit_pauli_to_pygsti_gate(term[0], qid=qids[0])\n",
    "    gates += onequbit_pauli_to_pygsti_gate(term[1], qid=qids[1])\n",
    "    return gates\n",
    "\n",
    "\n",
    "def decoupling_sequence_to_pygsti_circ(sequence, prep, idle_rep_interval, qids):\n",
    "    circ = Circuit(line_labels=qids)\n",
    "    if prep == 'I':\n",
    "        circ += Circuit([('Gypi2', qids[0])])\n",
    "    if prep == 'Q':\n",
    "        circ += Circuit([('Gxpi2', qids[0])])\n",
    "    for term in sequence:\n",
    "        gates = twoqubit_pauli_to_pygsti_gates(term, qids)\n",
    "        circ += gates\n",
    "        circ += Circuit([('Gidle', *qids)])*idle_rep_interval\n",
    "        circ += gates\n",
    "    circ += Circuit([('Gypi2', qids[0])])*3\n",
    "    return circ\n",
    "        "
   ]
  },
  {
   "cell_type": "code",
   "execution_count": 198,
   "metadata": {},
   "outputs": [
    {
     "name": "stdout",
     "output_type": "stream",
     "text": [
      "OutcomeLabelDict({('00',): np.float64(0.5411198297430844), ('01',): np.float64(1.3048458147313369e-09), ('10',): np.float64(0.45888016821976013), ('11',): np.float64(7.323091022470862e-10)})\n"
     ]
    }
   ],
   "source": [
    "xvec = 1e-3*np.random.randn(15) + 0.01*np.eye(15)[-1]\n",
    "qids = ['Q0', 'Q1']\n",
    "model = create_idle_model(xvec, qids)\n",
    "circ = decoupling_sequence_to_pygsti_circ(ZZ_centralizer_permutations[4], 'Q', 1, qids)\n",
    "print(model.probabilities(circ))"
   ]
  },
  {
   "cell_type": "markdown",
   "metadata": {},
   "source": []
  },
  {
   "cell_type": "markdown",
   "metadata": {},
   "source": [
    "# twirled RPE\n",
    "\n",
    "1) build up a list of circuits\n",
    "- the circuit list will be a 2d list of circuits at each detph\n",
    "2) sample from the circuits\n",
    "3) perform data analysis\n",
    "\n"
   ]
  },
  {
   "cell_type": "code",
   "execution_count": 199,
   "metadata": {},
   "outputs": [],
   "source": [
    "# circuit list buildup \n",
    "\n",
    "num_randomizations_per_depth = 10\n",
    "num_shots_per_circuit = 64\n",
    "depths = [2**i for i in range(8)]\n",
    "\n",
    "Icircs = []\n",
    "Qcircs = []\n",
    "for d in depths: \n",
    "    Icircs_at_depth = []\n",
    "    Qcircs_at_depth = []\n",
    "    for r in range(num_randomizations_per_depth):\n",
    "        # pick a random permutation of the commutant \n",
    "        perm_idx = np.random.choice(range(len(ZZ_centralizer_permutations)))\n",
    "        perm = ZZ_centralizer_permutations[perm_idx]\n",
    "        Icirc = decoupling_sequence_to_pygsti_circ(perm, 'I', d, qids)\n",
    "        Icircs_at_depth.append(Icirc)\n",
    "        Qcirc = decoupling_sequence_to_pygsti_circ(perm, 'Q', d, qids)\n",
    "        Qcircs_at_depth.append(Qcirc)\n",
    "    Icircs.append(Icircs_at_depth)\n",
    "    Qcircs.append(Qcircs_at_depth)\n"
   ]
  },
  {
   "cell_type": "code",
   "execution_count": 200,
   "metadata": {},
   "outputs": [
    {
     "data": {
      "text/plain": [
       "160"
      ]
     },
     "execution_count": 200,
     "metadata": {},
     "output_type": "execute_result"
    }
   ],
   "source": [
    "all_circs_needing_data = []\n",
    "for d in range(len(depths)):\n",
    "    all_circs_needing_data += Icircs[d]\n",
    "    all_circs_needing_data += Qcircs[d]\n",
    "len(all_circs_needing_data)"
   ]
  },
  {
   "cell_type": "code",
   "execution_count": 201,
   "metadata": {},
   "outputs": [],
   "source": [
    "ds = pygsti.data.simulate_data(model, all_circs_needing_data, num_shots_per_circuit)"
   ]
  },
  {
   "cell_type": "code",
   "execution_count": 202,
   "metadata": {},
   "outputs": [],
   "source": [
    "def extract_counts_from_dataset(dataset, Icircs, Ioutcomes, Qcircs, Qoutcomes, depths):\n",
    "    Icounts_at_depth = []\n",
    "    Qcounts_at_depth = []\n",
    "    for d in range(len(depths)):\n",
    "        Icircs_at_depth = Icircs[d]\n",
    "        Qcircs_at_depth = Qcircs[d]\n",
    "        Icounts = np.array([0., 0.])\n",
    "        Qcounts = np.array([0., 0.])\n",
    "        for Icirc in Icircs_at_depth:\n",
    "            plus_outcome = dataset[Icirc][Ioutcomes[0]]\n",
    "            minus_outcome = dataset[Icirc][Ioutcomes[1]]\n",
    "            Icounts += np.array([plus_outcome, minus_outcome])\n",
    "        for Qcirc in Qcircs_at_depth:\n",
    "            plus_outcome = dataset[Qcirc][Qoutcomes[0]]\n",
    "            minus_outcome = dataset[Qcirc][Qoutcomes[1]]\n",
    "            Qcounts += np.array([plus_outcome, minus_outcome])\n",
    "        Icounts_at_depth.append(Icounts)\n",
    "        Qcounts_at_depth.append(Qcounts)\n",
    "    return np.array(Icounts_at_depth), np.array(Qcounts_at_depth)"
   ]
  },
  {
   "cell_type": "code",
   "execution_count": 203,
   "metadata": {},
   "outputs": [
    {
     "name": "stdout",
     "output_type": "stream",
     "text": [
      "(array([0.06553103, 0.11201182, 0.082637  , 0.08464095, 0.08243324,\n",
      "       0.08132479, 0.08202666, 0.08306738]), 7)\n",
      "0.08233151392154694\n"
     ]
    }
   ],
   "source": [
    "Icounts, Qcounts = extract_counts_from_dataset(ds, Icircs, ['00', '10'], Qcircs, ['00', '10'], depths)\n",
    "cos_plus_counts = Icounts[:, 0]\n",
    "cos_minus_counts = Icounts[:, 1]\n",
    "sin_plus_counts = Qcounts[:, 0]\n",
    "sin_minus_counts = Qcounts[:, 1]\n",
    "print(estimate_phase(depths, cos_plus_counts, cos_minus_counts, sin_plus_counts, sin_minus_counts))\n",
    "print(xvec[-1]*8)"
   ]
  },
  {
   "cell_type": "markdown",
   "metadata": {},
   "source": [
    "# compare with naive solution"
   ]
  },
  {
   "cell_type": "code",
   "execution_count": 204,
   "metadata": {},
   "outputs": [],
   "source": [
    "def make_naive_circ(prep, idle_rep, qids):\n",
    "    circ = Circuit(line_labels=qids)\n",
    "    if prep == 'I':\n",
    "        circ += Circuit([('Gypi2', qids[0])])\n",
    "    if prep == 'Q':\n",
    "        circ += Circuit([('Gxpi2', qids[0])])\n",
    "    circ += Circuit([('Gidle', *qids)])*idle_rep\n",
    "    circ += Circuit([('Gypi2', qids[0])])*3\n",
    "    return circ"
   ]
  },
  {
   "cell_type": "code",
   "execution_count": 205,
   "metadata": {},
   "outputs": [
    {
     "name": "stdout",
     "output_type": "stream",
     "text": [
      "(array([6.28006032, 0.03742992, 0.01482634, 0.0179572 , 0.01568767,\n",
      "       0.01202516, 0.01211351, 0.0120247 ]), 7)\n",
      "0.08233151392154694\n"
     ]
    }
   ],
   "source": [
    "naive_I_circs = [make_naive_circ('I', d, qids) for d in depths]\n",
    "naive_Q_circs = [make_naive_circ('Q', d, qids) for d in depths]\n",
    "all_naive_circs_needing_data = naive_I_circs + naive_Q_circs\n",
    "naive_ds = pygsti.data.simulate_data(model, all_naive_circs_needing_data, num_shots_per_circuit*num_randomizations_per_depth)\n",
    "naive_I_counts = np.array([[naive_ds[circ]['00'], naive_ds[circ]['10']] for circ in naive_I_circs])\n",
    "naive_Q_counts = np.array([[naive_ds[circ]['00'], naive_ds[circ]['10']] for circ in naive_Q_circs])\n",
    "\n",
    "naive_cos_plus_counts = naive_I_counts[:, 0]\n",
    "naive_cos_minus_counts = naive_I_counts[:, 1]\n",
    "naive_sin_plus_counts = naive_Q_counts[:, 0]\n",
    "naive_sin_minus_counts = naive_Q_counts[:, 1]\n",
    "print(estimate_phase(depths, naive_cos_plus_counts, naive_cos_minus_counts, naive_sin_plus_counts, naive_sin_minus_counts))\n",
    "print(xvec[-1]*8)"
   ]
  },
  {
   "cell_type": "code",
   "execution_count": null,
   "metadata": {},
   "outputs": [],
   "source": []
  }
 ],
 "metadata": {
  "kernelspec": {
   "display_name": ".venv",
   "language": "python",
   "name": "python3"
  },
  "language_info": {
   "codemirror_mode": {
    "name": "ipython",
    "version": 3
   },
   "file_extension": ".py",
   "mimetype": "text/x-python",
   "name": "python",
   "nbconvert_exporter": "python",
   "pygments_lexer": "ipython3",
   "version": "3.12.3"
  },
  "orig_nbformat": 4
 },
 "nbformat": 4,
 "nbformat_minor": 2
}
